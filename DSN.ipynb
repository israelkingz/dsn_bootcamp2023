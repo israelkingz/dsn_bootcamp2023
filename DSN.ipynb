{
 "cells": [
  {
   "cell_type": "code",
   "execution_count": 8,
   "id": "b00a0ef7-37d5-4397-83e0-65d0a3e69a3a",
   "metadata": {},
   "outputs": [],
   "source": [
    "#importing required packages\n",
    "#modelues for EDA steps\n",
    "import pandas as pd\n",
    "import numpy as np\n",
    "import matplotlib.pyplot as plt\n",
    "import seaborn as sns"
   ]
  },
  {
   "cell_type": "code",
   "execution_count": 9,
   "id": "2a964e4e-a1ce-4fcf-b081-66948a949ddc",
   "metadata": {},
   "outputs": [],
   "source": [
    "train = pd.read_csv('Housing_dataset_train.csv')"
   ]
  },
  {
   "cell_type": "code",
   "execution_count": 10,
   "id": "f76f3aa8-0ea6-468c-92e7-5de82fdff5fd",
   "metadata": {},
   "outputs": [],
   "source": [
    "test = pd.read_csv('Housing_dataset_test.csv')"
   ]
  },
  {
   "cell_type": "code",
   "execution_count": 11,
   "id": "38011bc9-2cd8-4c29-9600-baf951e8bc1c",
   "metadata": {},
   "outputs": [],
   "source": [
    "sub = pd.read_csv('Sample_submission.csv')"
   ]
  },
  {
   "cell_type": "code",
   "execution_count": 12,
   "id": "c30cea77-9859-4e62-bdf1-a65eaf6b2d2b",
   "metadata": {},
   "outputs": [
    {
     "data": {
      "text/html": [
       "<div>\n",
       "<style scoped>\n",
       "    .dataframe tbody tr th:only-of-type {\n",
       "        vertical-align: middle;\n",
       "    }\n",
       "\n",
       "    .dataframe tbody tr th {\n",
       "        vertical-align: top;\n",
       "    }\n",
       "\n",
       "    .dataframe thead th {\n",
       "        text-align: right;\n",
       "    }\n",
       "</style>\n",
       "<table border=\"1\" class=\"dataframe\">\n",
       "  <thead>\n",
       "    <tr style=\"text-align: right;\">\n",
       "      <th></th>\n",
       "      <th>ID</th>\n",
       "      <th>loc</th>\n",
       "      <th>title</th>\n",
       "      <th>bedroom</th>\n",
       "      <th>bathroom</th>\n",
       "      <th>parking_space</th>\n",
       "      <th>price</th>\n",
       "    </tr>\n",
       "  </thead>\n",
       "  <tbody>\n",
       "    <tr>\n",
       "      <th>0</th>\n",
       "      <td>3583</td>\n",
       "      <td>Katsina</td>\n",
       "      <td>Semi-detached duplex</td>\n",
       "      <td>2.0</td>\n",
       "      <td>2.0</td>\n",
       "      <td>1.0</td>\n",
       "      <td>1149999.565</td>\n",
       "    </tr>\n",
       "    <tr>\n",
       "      <th>1</th>\n",
       "      <td>2748</td>\n",
       "      <td>Ondo</td>\n",
       "      <td>Apartment</td>\n",
       "      <td>NaN</td>\n",
       "      <td>2.0</td>\n",
       "      <td>4.0</td>\n",
       "      <td>1672416.689</td>\n",
       "    </tr>\n",
       "    <tr>\n",
       "      <th>2</th>\n",
       "      <td>9261</td>\n",
       "      <td>Ekiti</td>\n",
       "      <td>NaN</td>\n",
       "      <td>7.0</td>\n",
       "      <td>5.0</td>\n",
       "      <td>NaN</td>\n",
       "      <td>3364799.814</td>\n",
       "    </tr>\n",
       "    <tr>\n",
       "      <th>3</th>\n",
       "      <td>2224</td>\n",
       "      <td>Anambra</td>\n",
       "      <td>Detached duplex</td>\n",
       "      <td>5.0</td>\n",
       "      <td>2.0</td>\n",
       "      <td>4.0</td>\n",
       "      <td>2410306.756</td>\n",
       "    </tr>\n",
       "    <tr>\n",
       "      <th>4</th>\n",
       "      <td>10300</td>\n",
       "      <td>Kogi</td>\n",
       "      <td>Terrace duplex</td>\n",
       "      <td>NaN</td>\n",
       "      <td>5.0</td>\n",
       "      <td>6.0</td>\n",
       "      <td>2600700.898</td>\n",
       "    </tr>\n",
       "  </tbody>\n",
       "</table>\n",
       "</div>"
      ],
      "text/plain": [
       "      ID      loc                 title  bedroom  bathroom  parking_space  \\\n",
       "0   3583  Katsina  Semi-detached duplex      2.0       2.0            1.0   \n",
       "1   2748     Ondo             Apartment      NaN       2.0            4.0   \n",
       "2   9261    Ekiti                   NaN      7.0       5.0            NaN   \n",
       "3   2224  Anambra       Detached duplex      5.0       2.0            4.0   \n",
       "4  10300     Kogi        Terrace duplex      NaN       5.0            6.0   \n",
       "\n",
       "         price  \n",
       "0  1149999.565  \n",
       "1  1672416.689  \n",
       "2  3364799.814  \n",
       "3  2410306.756  \n",
       "4  2600700.898  "
      ]
     },
     "execution_count": 12,
     "metadata": {},
     "output_type": "execute_result"
    }
   ],
   "source": [
    "train.head()"
   ]
  },
  {
   "cell_type": "code",
   "execution_count": 13,
   "id": "8cfe92c1-ccde-45a9-8466-ec17ea1128d3",
   "metadata": {},
   "outputs": [
    {
     "data": {
      "text/plain": [
       "(14000, 7)"
      ]
     },
     "execution_count": 13,
     "metadata": {},
     "output_type": "execute_result"
    }
   ],
   "source": [
    "train.shape"
   ]
  },
  {
   "cell_type": "code",
   "execution_count": 14,
   "id": "bc565038-8066-495a-8b0c-9c54006204ab",
   "metadata": {},
   "outputs": [
    {
     "data": {
      "text/plain": [
       "(6000, 6)"
      ]
     },
     "execution_count": 14,
     "metadata": {},
     "output_type": "execute_result"
    }
   ],
   "source": [
    "test.shape"
   ]
  },
  {
   "cell_type": "code",
   "execution_count": 15,
   "id": "d8a1072f-ee0b-43a8-a506-1df7bd9cc0cb",
   "metadata": {},
   "outputs": [
    {
     "data": {
      "text/plain": [
       "(6000, 1)"
      ]
     },
     "execution_count": 15,
     "metadata": {},
     "output_type": "execute_result"
    }
   ],
   "source": [
    "sub.shape"
   ]
  },
  {
   "cell_type": "code",
   "execution_count": 16,
   "id": "d7a92974-f13f-4874-bf8f-d912e6272fd3",
   "metadata": {},
   "outputs": [
    {
     "data": {
      "text/html": [
       "<div>\n",
       "<style scoped>\n",
       "    .dataframe tbody tr th:only-of-type {\n",
       "        vertical-align: middle;\n",
       "    }\n",
       "\n",
       "    .dataframe tbody tr th {\n",
       "        vertical-align: top;\n",
       "    }\n",
       "\n",
       "    .dataframe thead th {\n",
       "        text-align: right;\n",
       "    }\n",
       "</style>\n",
       "<table border=\"1\" class=\"dataframe\">\n",
       "  <thead>\n",
       "    <tr style=\"text-align: right;\">\n",
       "      <th></th>\n",
       "      <th>ID</th>\n",
       "    </tr>\n",
       "  </thead>\n",
       "  <tbody>\n",
       "    <tr>\n",
       "      <th>0</th>\n",
       "      <td>845</td>\n",
       "    </tr>\n",
       "    <tr>\n",
       "      <th>1</th>\n",
       "      <td>1924</td>\n",
       "    </tr>\n",
       "    <tr>\n",
       "      <th>2</th>\n",
       "      <td>10718</td>\n",
       "    </tr>\n",
       "    <tr>\n",
       "      <th>3</th>\n",
       "      <td>12076</td>\n",
       "    </tr>\n",
       "    <tr>\n",
       "      <th>4</th>\n",
       "      <td>12254</td>\n",
       "    </tr>\n",
       "  </tbody>\n",
       "</table>\n",
       "</div>"
      ],
      "text/plain": [
       "      ID\n",
       "0    845\n",
       "1   1924\n",
       "2  10718\n",
       "3  12076\n",
       "4  12254"
      ]
     },
     "execution_count": 16,
     "metadata": {},
     "output_type": "execute_result"
    }
   ],
   "source": [
    "sub.head()"
   ]
  },
  {
   "cell_type": "code",
   "execution_count": 17,
   "id": "6165bea4-afd8-445a-a7e1-9b41981efd94",
   "metadata": {},
   "outputs": [
    {
     "data": {
      "text/plain": [
       "Index(['ID', 'loc', 'title', 'bedroom', 'bathroom', 'parking_space', 'price'], dtype='object')"
      ]
     },
     "execution_count": 17,
     "metadata": {},
     "output_type": "execute_result"
    }
   ],
   "source": [
    "train.columns"
   ]
  },
  {
   "cell_type": "code",
   "execution_count": 18,
   "id": "63093bde-4e08-48d5-97c0-eda9961b0521",
   "metadata": {},
   "outputs": [
    {
     "name": "stdout",
     "output_type": "stream",
     "text": [
      "<class 'pandas.core.frame.DataFrame'>\n",
      "RangeIndex: 14000 entries, 0 to 13999\n",
      "Data columns (total 7 columns):\n",
      " #   Column         Non-Null Count  Dtype  \n",
      "---  ------         --------------  -----  \n",
      " 0   ID             14000 non-null  int64  \n",
      " 1   loc            12187 non-null  object \n",
      " 2   title          12278 non-null  object \n",
      " 3   bedroom        12201 non-null  float64\n",
      " 4   bathroom       12195 non-null  float64\n",
      " 5   parking_space  12189 non-null  float64\n",
      " 6   price          14000 non-null  float64\n",
      "dtypes: float64(4), int64(1), object(2)\n",
      "memory usage: 765.8+ KB\n"
     ]
    }
   ],
   "source": [
    "train.info()"
   ]
  },
  {
   "cell_type": "code",
   "execution_count": 19,
   "id": "68cb7dcd-01c3-47c6-9b48-0aace6ed698b",
   "metadata": {},
   "outputs": [
    {
     "data": {
      "text/html": [
       "<div>\n",
       "<style scoped>\n",
       "    .dataframe tbody tr th:only-of-type {\n",
       "        vertical-align: middle;\n",
       "    }\n",
       "\n",
       "    .dataframe tbody tr th {\n",
       "        vertical-align: top;\n",
       "    }\n",
       "\n",
       "    .dataframe thead th {\n",
       "        text-align: right;\n",
       "    }\n",
       "</style>\n",
       "<table border=\"1\" class=\"dataframe\">\n",
       "  <thead>\n",
       "    <tr style=\"text-align: right;\">\n",
       "      <th></th>\n",
       "      <th>ID</th>\n",
       "      <th>bedroom</th>\n",
       "      <th>bathroom</th>\n",
       "      <th>parking_space</th>\n",
       "      <th>price</th>\n",
       "    </tr>\n",
       "  </thead>\n",
       "  <tbody>\n",
       "    <tr>\n",
       "      <th>count</th>\n",
       "      <td>14000.000000</td>\n",
       "      <td>12201.000000</td>\n",
       "      <td>12195.000000</td>\n",
       "      <td>12189.000000</td>\n",
       "      <td>1.400000e+04</td>\n",
       "    </tr>\n",
       "    <tr>\n",
       "      <th>mean</th>\n",
       "      <td>4862.700357</td>\n",
       "      <td>4.308171</td>\n",
       "      <td>3.134235</td>\n",
       "      <td>3.169825</td>\n",
       "      <td>2.138082e+06</td>\n",
       "    </tr>\n",
       "    <tr>\n",
       "      <th>std</th>\n",
       "      <td>3818.348214</td>\n",
       "      <td>2.441165</td>\n",
       "      <td>2.035950</td>\n",
       "      <td>1.599415</td>\n",
       "      <td>1.083057e+06</td>\n",
       "    </tr>\n",
       "    <tr>\n",
       "      <th>min</th>\n",
       "      <td>0.000000</td>\n",
       "      <td>1.000000</td>\n",
       "      <td>1.000000</td>\n",
       "      <td>1.000000</td>\n",
       "      <td>4.319673e+05</td>\n",
       "    </tr>\n",
       "    <tr>\n",
       "      <th>25%</th>\n",
       "      <td>1672.750000</td>\n",
       "      <td>2.000000</td>\n",
       "      <td>1.000000</td>\n",
       "      <td>2.000000</td>\n",
       "      <td>1.393990e+06</td>\n",
       "    </tr>\n",
       "    <tr>\n",
       "      <th>50%</th>\n",
       "      <td>3527.000000</td>\n",
       "      <td>4.000000</td>\n",
       "      <td>2.000000</td>\n",
       "      <td>3.000000</td>\n",
       "      <td>1.895223e+06</td>\n",
       "    </tr>\n",
       "    <tr>\n",
       "      <th>75%</th>\n",
       "      <td>8011.250000</td>\n",
       "      <td>6.000000</td>\n",
       "      <td>5.000000</td>\n",
       "      <td>4.000000</td>\n",
       "      <td>2.586699e+06</td>\n",
       "    </tr>\n",
       "    <tr>\n",
       "      <th>max</th>\n",
       "      <td>12999.000000</td>\n",
       "      <td>9.000000</td>\n",
       "      <td>7.000000</td>\n",
       "      <td>6.000000</td>\n",
       "      <td>1.656849e+07</td>\n",
       "    </tr>\n",
       "  </tbody>\n",
       "</table>\n",
       "</div>"
      ],
      "text/plain": [
       "                 ID       bedroom      bathroom  parking_space         price\n",
       "count  14000.000000  12201.000000  12195.000000   12189.000000  1.400000e+04\n",
       "mean    4862.700357      4.308171      3.134235       3.169825  2.138082e+06\n",
       "std     3818.348214      2.441165      2.035950       1.599415  1.083057e+06\n",
       "min        0.000000      1.000000      1.000000       1.000000  4.319673e+05\n",
       "25%     1672.750000      2.000000      1.000000       2.000000  1.393990e+06\n",
       "50%     3527.000000      4.000000      2.000000       3.000000  1.895223e+06\n",
       "75%     8011.250000      6.000000      5.000000       4.000000  2.586699e+06\n",
       "max    12999.000000      9.000000      7.000000       6.000000  1.656849e+07"
      ]
     },
     "execution_count": 19,
     "metadata": {},
     "output_type": "execute_result"
    }
   ],
   "source": [
    "train.describe()"
   ]
  },
  {
   "cell_type": "code",
   "execution_count": 20,
   "id": "2b70eac9-e6c7-479a-904f-a90669d082ed",
   "metadata": {},
   "outputs": [
    {
     "name": "stdout",
     "output_type": "stream",
     "text": [
      "ID                  0\n",
      "loc              1813\n",
      "title            1722\n",
      "bedroom          1799\n",
      "bathroom         1805\n",
      "parking_space    1811\n",
      "price               0\n",
      "dtype: int64\n"
     ]
    }
   ],
   "source": [
    "print(train.isnull().sum())"
   ]
  },
  {
   "cell_type": "code",
   "execution_count": 21,
   "id": "0cf5171d-36ec-497f-9806-87d7cb1a8838",
   "metadata": {},
   "outputs": [
    {
     "data": {
      "image/png": "[encoded data removed]",
      "text/plain": [
       "<Figure size 640x480 with 2 Axes>"
      ]
     },
     "metadata": {},
     "output_type": "display_data"
    }
   ],
   "source": [
    "correlation_matrix = train.corr()\n",
    "sns.heatmap(correlation_matrix, annot=True, cmap='coolwarm')\n",
    "plt.title('Correlation Matrix')\n",
    "plt.show()\n"
   ]
  },
  {
   "cell_type": "code",
   "execution_count": 23,
   "id": "0d3dd29f-90e6-43aa-ab51-94b1e613d154",
   "metadata": {},
   "outputs": [
    {
     "data": {
      "image/png": "[encoded data removed]",
      "text/plain": [
       "<Figure size 640x480 with 1 Axes>"
      ]
     },
     "metadata": {},
     "output_type": "display_data"
    }
   ],
   "source": [
    "# Boxplot to identify outliers\n",
    "sns.boxplot(data=train[['bedroom', 'bathroom', 'parking_space', 'price']])\n",
    "plt.title('Boxplot for Bedrooms, Bathrooms, Parking Spaces, and Price')\n",
    "plt.show()"
   ]
  },
  {
   "cell_type": "code",
   "execution_count": 24,
   "id": "b13dfae5-fe49-4463-8e7c-52319bba02c5",
   "metadata": {},
   "outputs": [
    {
     "data": {
      "image/png": "[encoded data removed]",
      "text/plain": [
       "<Figure size 640x480 with 1 Axes>"
      ]
     },
     "metadata": {},
     "output_type": "display_data"
    }
   ],
   "source": [
    "# Location-based analysis: Average price per location\n",
    "average_price_per_location = train.groupby('loc')['price'].mean().reset_index()\n",
    "sns.barplot(x='loc', y='price', data=average_price_per_location)\n",
    "plt.xticks(rotation=90)\n",
    "plt.title('Average Price per Location')\n",
    "plt.show()"
   ]
  },
  {
   "cell_type": "code",
   "execution_count": 30,
   "id": "6ea67863-5264-4b48-8470-c1d8059ea91c",
   "metadata": {},
   "outputs": [
    {
     "name": "stdout",
     "output_type": "stream",
     "text": [
      "Top Keywords in Titles:\n"
     ]
    },
    {
     "data": {
      "text/html": [
       "<div>\n",
       "<style scoped>\n",
       "    .dataframe tbody tr th:only-of-type {\n",
       "        vertical-align: middle;\n",
       "    }\n",
       "\n",
       "    .dataframe tbody tr th {\n",
       "        vertical-align: top;\n",
       "    }\n",
       "\n",
       "    .dataframe thead th {\n",
       "        text-align: right;\n",
       "    }\n",
       "</style>\n",
       "<table border=\"1\" class=\"dataframe\">\n",
       "  <thead>\n",
       "    <tr style=\"text-align: right;\">\n",
       "      <th></th>\n",
       "      <th>Keyword</th>\n",
       "      <th>Frequency</th>\n",
       "    </tr>\n",
       "  </thead>\n",
       "  <tbody>\n",
       "    <tr>\n",
       "      <th>0</th>\n",
       "      <td>duplex</td>\n",
       "      <td>3877</td>\n",
       "    </tr>\n",
       "    <tr>\n",
       "      <th>1</th>\n",
       "      <td>Flat</td>\n",
       "      <td>1372</td>\n",
       "    </tr>\n",
       "    <tr>\n",
       "      <th>2</th>\n",
       "      <td>Apartment</td>\n",
       "      <td>1331</td>\n",
       "    </tr>\n",
       "    <tr>\n",
       "      <th>3</th>\n",
       "      <td>Townhouse</td>\n",
       "      <td>1327</td>\n",
       "    </tr>\n",
       "    <tr>\n",
       "      <th>4</th>\n",
       "      <td>Mansion</td>\n",
       "      <td>1322</td>\n",
       "    </tr>\n",
       "    <tr>\n",
       "      <th>5</th>\n",
       "      <td>Detached</td>\n",
       "      <td>1312</td>\n",
       "    </tr>\n",
       "    <tr>\n",
       "      <th>6</th>\n",
       "      <td>Penthouse</td>\n",
       "      <td>1306</td>\n",
       "    </tr>\n",
       "    <tr>\n",
       "      <th>7</th>\n",
       "      <td>Semi-detached</td>\n",
       "      <td>1299</td>\n",
       "    </tr>\n",
       "    <tr>\n",
       "      <th>8</th>\n",
       "      <td>Bungalow</td>\n",
       "      <td>1293</td>\n",
       "    </tr>\n",
       "    <tr>\n",
       "      <th>9</th>\n",
       "      <td>Terrace</td>\n",
       "      <td>1266</td>\n",
       "    </tr>\n",
       "  </tbody>\n",
       "</table>\n",
       "</div>"
      ],
      "text/plain": [
       "         Keyword  Frequency\n",
       "0         duplex       3877\n",
       "1           Flat       1372\n",
       "2      Apartment       1331\n",
       "3      Townhouse       1327\n",
       "4        Mansion       1322\n",
       "5       Detached       1312\n",
       "6      Penthouse       1306\n",
       "7  Semi-detached       1299\n",
       "8       Bungalow       1293\n",
       "9        Terrace       1266"
      ]
     },
     "execution_count": 30,
     "metadata": {},
     "output_type": "execute_result"
    }
   ],
   "source": [
    "from collections import Counter\n",
    "\n",
    "# Drop rows with NaN values in the 'title' column\n",
    "train_cleaned = train.dropna(subset=['title'])\n",
    "\n",
    "# Assuming the title column contains strings separated by spaces\n",
    "title_words = ' '.join(train_cleaned['title']).split()\n",
    "title_word_count = Counter(title_words)\n",
    "top_keywords = title_word_count.most_common(10)\n",
    "# Convert the top_keywords list to a DataFrame\n",
    "top_keywords_df = pd.DataFrame(top_keywords, columns=['Keyword', 'Frequency'])\n",
    "print(\"Top Keywords in Titles:\")\n",
    "top_keywords_df"
   ]
  },
  {
   "cell_type": "code",
   "execution_count": 13,
   "id": "6ea4eaa6-2fdd-461f-9244-b900a8d02934",
   "metadata": {},
   "outputs": [],
   "source": [
    "from sklearn.model_selection import train_test_split\n",
    "from sklearn.preprocessing import StandardScaler\n",
    "from sklearn.linear_model import LinearRegression\n",
    "from sklearn.metrics import mean_squared_error"
   ]
  },
  {
   "cell_type": "code",
   "execution_count": 14,
   "id": "11a0fdc1-ccc6-4d9b-a022-079e433ff6ff",
   "metadata": {},
   "outputs": [],
   "source": [
    "train.drop(columns=['ID'], inplace=True)"
   ]
  },
  {
   "cell_type": "code",
   "execution_count": 17,
   "id": "b44af3f4-64a1-4654-9875-63e5613e4770",
   "metadata": {},
   "outputs": [],
   "source": [
    "# Impute missing numerical values with the median\n",
    "train['bedroom'].fillna(train['bedroom'].median(), inplace=True)\n",
    "train['bathroom'].fillna(train['bathroom'].median(), inplace=True)\n",
    "train['parking_space'].fillna(train['parking_space'].median(), inplace=True)"
   ]
  },
  {
   "cell_type": "code",
   "execution_count": 18,
   "id": "432001c8-2766-4cf1-99aa-51914f8eb0ee",
   "metadata": {},
   "outputs": [],
   "source": [
    "# Impute missing numerical values with the median\n",
    "test['bedroom'].fillna(test['bedroom'].median(), inplace=True)\n",
    "test['bathroom'].fillna(test['bathroom'].median(), inplace=True)\n",
    "test['parking_space'].fillna(test['parking_space'].median(), inplace=True)"
   ]
  },
  {
   "cell_type": "code",
   "execution_count": 19,
   "id": "90839fca-a024-4c90-9b4e-605b8178718a",
   "metadata": {},
   "outputs": [],
   "source": [
    "# Impute missing categorical values with the most frequent category\n",
    "train['loc'].fillna(train['loc'].mode()[0], inplace=True)\n",
    "train['title'].fillna(train['title'].mode()[0], inplace=True)"
   ]
  },
  {
   "cell_type": "code",
   "execution_count": 20,
   "id": "56c96c9a-f595-4b70-b6b7-c44ae1d3f6c5",
   "metadata": {},
   "outputs": [],
   "source": [
    "# Impute missing categorical values with the most frequent category\n",
    "test['loc'].fillna(test['loc'].mode()[0], inplace=True)\n",
    "test['title'].fillna(test['title'].mode()[0], inplace=True)"
   ]
  },
  {
   "cell_type": "code",
   "execution_count": 21,
   "id": "63a2f0ec-604b-4241-afda-697686214655",
   "metadata": {},
   "outputs": [],
   "source": [
    "# Create a new feature 'total_rooms'\n",
    "train['total_rooms'] = train['bedroom'] + train['bathroom'] + train['parking_space']\n",
    "test['total_rooms'] = test['bedroom'] + test['bathroom'] + test['parking_space']"
   ]
  },
  {
   "cell_type": "code",
   "execution_count": 22,
   "id": "bc30a606-1f43-404f-90b3-7e7da4a7860e",
   "metadata": {},
   "outputs": [],
   "source": [
    "# Encode categorical features 'loc' and 'title'\n",
    "train = pd.get_dummies(train, columns=['loc', 'title'], drop_first=True)\n",
    "test = pd.get_dummies(test, columns=['loc', 'title'], drop_first=True)"
   ]
  },
  {
   "cell_type": "code",
   "execution_count": 23,
   "id": "9e478882-a98d-4ce5-a9ce-ba4d8664473b",
   "metadata": {},
   "outputs": [],
   "source": [
    "# Separate the target variable 'price' from the features\n",
    "X = train.drop(columns=['price'])\n",
    "y = train['price']"
   ]
  },
  {
   "cell_type": "code",
   "execution_count": 24,
   "id": "8554d332-74eb-4420-b29f-5f9e53d4ecbd",
   "metadata": {},
   "outputs": [],
   "source": [
    "# Split the data into training and testing sets (adjust test_size as needed)\n",
    "X_train, X_test, y_train, y_test = train_test_split(X, y, test_size=0.2, random_state=42)\n",
    "\n",
    "# Scale the numerical features (optional, but can help some models)\n",
    "scaler = StandardScaler()\n",
    "X_train_scaled = scaler.fit_transform(X_train)\n",
    "X_test_scaled = scaler.transform(X_test)"
   ]
  },
  {
   "cell_type": "code",
   "execution_count": 25,
   "id": "dcb03017-56ca-4f39-a5cf-b3fcda7f72bd",
   "metadata": {},
   "outputs": [
    {
     "data": {
      "text/html": [
       "<style>#sk-container-id-1 {color: black;background-color: white;}#sk-container-id-1 pre{padding: 0;}#sk-container-id-1 div.sk-toggleable {background-color: white;}#sk-container-id-1 label.sk-toggleable__label {cursor: pointer;display: block;width: 100%;margin-bottom: 0;padding: 0.3em;box-sizing: border-box;text-align: center;}#sk-container-id-1 label.sk-toggleable__label-arrow:before {content: \"▸\";float: left;margin-right: 0.25em;color: #696969;}#sk-container-id-1 label.sk-toggleable__label-arrow:hover:before {color: black;}#sk-container-id-1 div.sk-estimator:hover label.sk-toggleable__label-arrow:before {color: black;}#sk-container-id-1 div.sk-toggleable__content {max-height: 0;max-width: 0;overflow: hidden;text-align: left;background-color: #f0f8ff;}#sk-container-id-1 div.sk-toggleable__content pre {margin: 0.2em;color: black;border-radius: 0.25em;background-color: #f0f8ff;}#sk-container-id-1 input.sk-toggleable__control:checked~div.sk-toggleable__content {max-height: 200px;max-width: 100%;overflow: auto;}#sk-container-id-1 input.sk-toggleable__control:checked~label.sk-toggleable__label-arrow:before {content: \"▾\";}#sk-container-id-1 div.sk-estimator input.sk-toggleable__control:checked~label.sk-toggleable__label {background-color: #d4ebff;}#sk-container-id-1 div.sk-label input.sk-toggleable__control:checked~label.sk-toggleable__label {background-color: #d4ebff;}#sk-container-id-1 input.sk-hidden--visually {border: 0;clip: rect(1px 1px 1px 1px);clip: rect(1px, 1px, 1px, 1px);height: 1px;margin: -1px;overflow: hidden;padding: 0;position: absolute;width: 1px;}#sk-container-id-1 div.sk-estimator {font-family: monospace;background-color: #f0f8ff;border: 1px dotted black;border-radius: 0.25em;box-sizing: border-box;margin-bottom: 0.5em;}#sk-container-id-1 div.sk-estimator:hover {background-color: #d4ebff;}#sk-container-id-1 div.sk-parallel-item::after {content: \"\";width: 100%;border-bottom: 1px solid gray;flex-grow: 1;}#sk-container-id-1 div.sk-label:hover label.sk-toggleable__label {background-color: #d4ebff;}#sk-container-id-1 div.sk-serial::before {content: \"\";position: absolute;border-left: 1px solid gray;box-sizing: border-box;top: 0;bottom: 0;left: 50%;z-index: 0;}#sk-container-id-1 div.sk-serial {display: flex;flex-direction: column;align-items: center;background-color: white;padding-right: 0.2em;padding-left: 0.2em;position: relative;}#sk-container-id-1 div.sk-item {position: relative;z-index: 1;}#sk-container-id-1 div.sk-parallel {display: flex;align-items: stretch;justify-content: center;background-color: white;position: relative;}#sk-container-id-1 div.sk-item::before, #sk-container-id-1 div.sk-parallel-item::before {content: \"\";position: absolute;border-left: 1px solid gray;box-sizing: border-box;top: 0;bottom: 0;left: 50%;z-index: -1;}#sk-container-id-1 div.sk-parallel-item {display: flex;flex-direction: column;z-index: 1;position: relative;background-color: white;}#sk-container-id-1 div.sk-parallel-item:first-child::after {align-self: flex-end;width: 50%;}#sk-container-id-1 div.sk-parallel-item:last-child::after {align-self: flex-start;width: 50%;}#sk-container-id-1 div.sk-parallel-item:only-child::after {width: 0;}#sk-container-id-1 div.sk-dashed-wrapped {border: 1px dashed gray;margin: 0 0.4em 0.5em 0.4em;box-sizing: border-box;padding-bottom: 0.4em;background-color: white;}#sk-container-id-1 div.sk-label label {font-family: monospace;font-weight: bold;display: inline-block;line-height: 1.2em;}#sk-container-id-1 div.sk-label-container {text-align: center;}#sk-container-id-1 div.sk-container {/* jupyter's `normalize.less` sets `[hidden] { display: none; }` but bootstrap.min.css set `[hidden] { display: none !important; }` so we also need the `!important` here to be able to override the default hidden behavior on the sphinx rendered scikit-learn.org. See: https://github.com/scikit-learn/scikit-learn/issues/21755 */display: inline-block !important;position: relative;}#sk-container-id-1 div.sk-text-repr-fallback {display: none;}</style><div id=\"sk-container-id-1\" class=\"sk-top-container\"><div class=\"sk-text-repr-fallback\"><pre>LinearRegression()</pre><b>In a Jupyter environment, please rerun this cell to show the HTML representation or trust the notebook. <br />On GitHub, the HTML representation is unable to render, please try loading this page with nbviewer.org.</b></div><div class=\"sk-container\" hidden><div class=\"sk-item\"><div class=\"sk-estimator sk-toggleable\"><input class=\"sk-toggleable__control sk-hidden--visually\" id=\"sk-estimator-id-1\" type=\"checkbox\" checked><label for=\"sk-estimator-id-1\" class=\"sk-toggleable__label sk-toggleable__label-arrow\">LinearRegression</label><div class=\"sk-toggleable__content\"><pre>LinearRegression()</pre></div></div></div></div></div>"
      ],
      "text/plain": [
       "LinearRegression()"
      ]
     },
     "execution_count": 25,
     "metadata": {},
     "output_type": "execute_result"
    }
   ],
   "source": [
    "# Train a simple linear regression model (you can use other regression models too)\n",
    "model = LinearRegression()\n",
    "model.fit(X_train_scaled, y_train)"
   ]
  },
  {
   "cell_type": "code",
   "execution_count": 26,
   "id": "221f5566-a314-415b-aa7d-abe55a52852d",
   "metadata": {},
   "outputs": [
    {
     "name": "stdout",
     "output_type": "stream",
     "text": [
      "Mean Squared Error: 391573101800.7244\n"
     ]
    }
   ],
   "source": [
    "# Make predictions on the test set\n",
    "y_pred = model.predict(X_test_scaled)\n",
    "\n",
    "# Evaluate the model's performance\n",
    "mse = mean_squared_error(y_test, y_pred)\n",
    "print(f\"Mean Squared Error: {mse}\")"
   ]
  },
  {
   "cell_type": "code",
   "execution_count": 27,
   "id": "a476ad57-02e2-4fcb-ae4e-9213533d3983",
   "metadata": {},
   "outputs": [
    {
     "name": "stdout",
     "output_type": "stream",
     "text": [
      "Root Mean Squared Error (RMSE): 625758.021762985\n"
     ]
    }
   ],
   "source": [
    "import numpy as np\n",
    "\n",
    "# Calculate Root Mean Squared Error (RMSE)\n",
    "rmse = np.sqrt(mean_squared_error(y_test, y_pred))\n",
    "print(f\"Root Mean Squared Error (RMSE): {rmse}\")"
   ]
  },
  {
   "cell_type": "code",
   "execution_count": 32,
   "id": "d7381cbc-0765-426a-8665-f14e289a200a",
   "metadata": {},
   "outputs": [
    {
     "data": {
      "text/plain": [
       "((14000, 48), (6000, 49))"
      ]
     },
     "execution_count": 32,
     "metadata": {},
     "output_type": "execute_result"
    }
   ],
   "source": [
    "X.shape, test.shape"
   ]
  },
  {
   "cell_type": "code",
   "execution_count": 33,
   "id": "581b1f46-fc9e-4b07-9ce4-53a9d0417058",
   "metadata": {},
   "outputs": [],
   "source": [
    "test.drop(columns=['ID'], inplace=True)"
   ]
  },
  {
   "cell_type": "code",
   "execution_count": 35,
   "id": "357cf754-4e91-4a6e-916c-5990412d3f06",
   "metadata": {},
   "outputs": [
    {
     "name": "stderr",
     "output_type": "stream",
     "text": [
      "C:\\Users\\owner\\anaconda3\\lib\\site-packages\\sklearn\\base.py:432: UserWarning: X has feature names, but LinearRegression was fitted without feature names\n",
      "  warnings.warn(\n"
     ]
    }
   ],
   "source": [
    "y_test_pred = model.predict(test)"
   ]
  },
  {
   "cell_type": "code",
   "execution_count": 39,
   "id": "7a092589-1ffa-437e-9bfe-13417dd79da8",
   "metadata": {},
   "outputs": [
    {
     "data": {
      "text/plain": [
       "array([5444810.38907182, 4494452.60695437, 5262698.02684896, ...,\n",
       "       5663871.22443377, 6462048.71538496, 7589808.28648462])"
      ]
     },
     "execution_count": 39,
     "metadata": {},
     "output_type": "execute_result"
    }
   ],
   "source": [
    "y_test_pred"
   ]
  },
  {
   "cell_type": "code",
   "execution_count": 37,
   "id": "155d4885-f5b7-42d9-8a20-69200c40f128",
   "metadata": {},
   "outputs": [],
   "source": [
    "# Create a DataFrame for submission\n",
    "submission_df = pd.DataFrame({\n",
    "    'ID': sub['ID'],\n",
    "    'Price': y_test_pred\n",
    "})"
   ]
  },
  {
   "cell_type": "code",
   "execution_count": 38,
   "id": "31707f3b-f8c9-4b4d-8c22-da2743497c44",
   "metadata": {},
   "outputs": [
    {
     "data": {
      "text/html": [
       "<div>\n",
       "<style scoped>\n",
       "    .dataframe tbody tr th:only-of-type {\n",
       "        vertical-align: middle;\n",
       "    }\n",
       "\n",
       "    .dataframe tbody tr th {\n",
       "        vertical-align: top;\n",
       "    }\n",
       "\n",
       "    .dataframe thead th {\n",
       "        text-align: right;\n",
       "    }\n",
       "</style>\n",
       "<table border=\"1\" class=\"dataframe\">\n",
       "  <thead>\n",
       "    <tr style=\"text-align: right;\">\n",
       "      <th></th>\n",
       "      <th>ID</th>\n",
       "      <th>Price</th>\n",
       "    </tr>\n",
       "  </thead>\n",
       "  <tbody>\n",
       "    <tr>\n",
       "      <th>0</th>\n",
       "      <td>845</td>\n",
       "      <td>5.444810e+06</td>\n",
       "    </tr>\n",
       "    <tr>\n",
       "      <th>1</th>\n",
       "      <td>1924</td>\n",
       "      <td>4.494453e+06</td>\n",
       "    </tr>\n",
       "    <tr>\n",
       "      <th>2</th>\n",
       "      <td>10718</td>\n",
       "      <td>5.262698e+06</td>\n",
       "    </tr>\n",
       "    <tr>\n",
       "      <th>3</th>\n",
       "      <td>12076</td>\n",
       "      <td>9.899264e+06</td>\n",
       "    </tr>\n",
       "    <tr>\n",
       "      <th>4</th>\n",
       "      <td>12254</td>\n",
       "      <td>6.690124e+06</td>\n",
       "    </tr>\n",
       "  </tbody>\n",
       "</table>\n",
       "</div>"
      ],
      "text/plain": [
       "      ID         Price\n",
       "0    845  5.444810e+06\n",
       "1   1924  4.494453e+06\n",
       "2  10718  5.262698e+06\n",
       "3  12076  9.899264e+06\n",
       "4  12254  6.690124e+06"
      ]
     },
     "execution_count": 38,
     "metadata": {},
     "output_type": "execute_result"
    }
   ],
   "source": [
    "submission_df.head()"
   ]
  },
  {
   "cell_type": "code",
   "execution_count": 40,
   "id": "d760b68f-b7a3-4f83-b382-d57e0e087629",
   "metadata": {},
   "outputs": [],
   "source": [
    "# Save the submission DataFrame to a CSV file\n",
    "submission_df.to_csv('submission2.csv', index=False)"
   ]
  },
  {
   "cell_type": "code",
   "execution_count": 48,
   "id": "87bd028f-3525-4d38-a4ee-650af545e572",
   "metadata": {},
   "outputs": [
    {
     "data": {
      "application/vnd.jupyter.widget-view+json": {
       "model_id": "a82ee85536ee4d7b8575eea29b1821c5",
       "version_major": 2,
       "version_minor": 0
      },
      "text/plain": [
       "MetricVisualizer(layout=Layout(align_self='stretch', height='500px'))"
      ]
     },
     "metadata": {},
     "output_type": "display_data"
    },
    {
     "data": {
      "text/plain": [
       "<catboost.core.CatBoostRegressor at 0x28e3da94eb0>"
      ]
     },
     "execution_count": 48,
     "metadata": {},
     "output_type": "execute_result"
    }
   ],
   "source": [
    "from sklearn.model_selection import train_test_split\n",
    "from catboost import CatBoostRegressor\n",
    "\n",
    "# Assuming you have already preprocessed your data and defined X and y\n",
    "\n",
    "# Split the data into training and testing sets\n",
    "X_train, X_test, y_train, y_test = train_test_split(X, y, test_size=0.2, random_state=42)\n",
    "\n",
    "# Initialize the CatBoostRegressor\n",
    "cat_model = CatBoostRegressor(iterations=1000, learning_rate=0.05, loss_function='RMSE', logging_level='Silent')\n",
    "\n",
    "# Fit the model using the training data\n",
    "cat_model.fit(X_train, y_train, eval_set=(X_test, y_test), plot=True)"
   ]
  },
  {
   "cell_type": "code",
   "execution_count": 49,
   "id": "6e664b7f-bf30-4e43-8095-1884d08f0d2d",
   "metadata": {},
   "outputs": [],
   "source": [
    "predictions = cat_model.predict(X_test)"
   ]
  },
  {
   "cell_type": "code",
   "execution_count": 51,
   "id": "e1da67d6-f989-463e-895d-42e33b70e026",
   "metadata": {},
   "outputs": [
    {
     "name": "stdout",
     "output_type": "stream",
     "text": [
      "Mean Squared Error: 573929.2887263661\n"
     ]
    }
   ],
   "source": [
    "# Calculate the mean squared error\n",
    "mse = np.sqrt(mean_squared_error(y_test, predictions))\n",
    "\n",
    "print(f\"Mean Squared Error: {mse}\")"
   ]
  },
  {
   "cell_type": "code",
   "execution_count": 52,
   "id": "98f047c3-20e5-4ad8-b6c0-b05967c89d07",
   "metadata": {},
   "outputs": [],
   "source": [
    "predictions = cat_model.predict(test)"
   ]
  },
  {
   "cell_type": "code",
   "execution_count": 54,
   "id": "0a502fa6-86be-4795-b0c5-9947ecae9934",
   "metadata": {},
   "outputs": [],
   "source": [
    "# Create a DataFrame for submission\n",
    "submission_df = pd.DataFrame({\n",
    "    'ID': sub['ID'],\n",
    "    'price': predictions\n",
    "})"
   ]
  },
  {
   "cell_type": "code",
   "execution_count": 55,
   "id": "afb83c26-f71d-4631-a335-27dc8fcad5c6",
   "metadata": {},
   "outputs": [],
   "source": [
    "# Save the submission DataFrame to a CSV file\n",
    "submission_df.to_csv('submission_cat.csv', index=False)"
   ]
  }
 ],
 "metadata": {
  "kernelspec": {
   "display_name": "Python 3 (ipykernel)",
   "language": "python",
   "name": "python3"
  },
  "language_info": {
   "codemirror_mode": {
    "name": "ipython",
    "version": 3
   },
   "file_extension": ".py",
   "mimetype": "text/x-python",
   "name": "python",
   "nbconvert_exporter": "python",
   "pygments_lexer": "ipython3",
   "version": "3.9.13"
  }
 },
 "nbformat": 4,
 "nbformat_minor": 5
}
