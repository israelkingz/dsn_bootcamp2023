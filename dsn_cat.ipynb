{
 "cells": [
  {
   "cell_type": "code",
   "execution_count": 1,
   "id": "6d719913-12f0-40c2-ae17-093f46512567",
   "metadata": {},
   "outputs": [],
   "source": [
    "import numpy as np # linear algebra\n",
    "import pandas as pd # data processing, CSV file I/O (e.g. pd.read_csv)\n",
    "from sklearn.compose import ColumnTransformer\n",
    "from sklearn.impute import SimpleImputer\n",
    "from sklearn.metrics import mean_absolute_error"
   ]
  },
  {
   "cell_type": "code",
   "execution_count": 2,
   "id": "dffd393d-83bb-4817-b080-53030e57d8c0",
   "metadata": {},
   "outputs": [],
   "source": [
    "X = pd.read_csv('Housing_dataset_train.csv')\n",
    "X_test = pd.read_csv('Housing_dataset_test.csv')\n",
    "sub = pd.read_csv('Sample_submission.csv')"
   ]
  },
  {
   "cell_type": "code",
   "execution_count": 3,
   "id": "eecada2c-0556-473a-acf4-64e11e512e46",
   "metadata": {},
   "outputs": [],
   "source": [
    "y = X.price              \n",
    "X.drop(['price'], axis=1, inplace=True)"
   ]
  },
  {
   "cell_type": "code",
   "execution_count": 6,
   "id": "82b8aadd-fd62-4e6d-a534-48578a7e14d2",
   "metadata": {},
   "outputs": [],
   "source": [
    "from sklearn.model_selection import train_test_split\n",
    "# Break off validation set from training data\n",
    "X_train, X_valid, y_train, y_valid = train_test_split(X, y, train_size=0.8, test_size=0.2,\n",
    "                                                                random_state=0)"
   ]
  },
  {
   "cell_type": "code",
   "execution_count": 7,
   "id": "624ec410-bdbe-4111-8ac5-dbb763a205b3",
   "metadata": {},
   "outputs": [],
   "source": [
    "X_train, X_valid = X_train.align(X_valid, join='left', axis=1)\n",
    "X_train, X_test = X_train.align(X_test, join='left', axis=1)"
   ]
  },
  {
   "cell_type": "code",
   "execution_count": 9,
   "id": "ac5d6e1a-0f22-4edb-be92-f521f4668a41",
   "metadata": {},
   "outputs": [],
   "source": [
    "# Preprocessing for categorical data\n",
    "numerical_cols = list(X_train.select_dtypes(exclude=['object']).columns)\n",
    "categorical_cols = list(X_train.select_dtypes(include=['object']).columns)"
   ]
  },
  {
   "cell_type": "code",
   "execution_count": 10,
   "id": "427de7b2-6c11-4045-8243-aa5a462a5a3c",
   "metadata": {},
   "outputs": [],
   "source": [
    "import numpy as np\n",
    "from sklearn.experimental import enable_iterative_imputer\n",
    "from sklearn.impute import IterativeImputer\n",
    "imputer = IterativeImputer(max_iter=10, random_state=0)\n",
    "imputer.fit(X_train[numerical_cols].values)\n",
    "X_train_mat = imputer.transform(X_train[numerical_cols].values)\n",
    "X_valid_mat = imputer.transform(X_valid[numerical_cols].values)\n",
    "X_test_mat = imputer.transform(X_test[numerical_cols].values)"
   ]
  },
  {
   "cell_type": "code",
   "execution_count": 11,
   "id": "84cd54e4-3240-4a26-8398-69502bbd8adb",
   "metadata": {},
   "outputs": [
    {
     "name": "stderr",
     "output_type": "stream",
     "text": [
      "C:\\Users\\owner\\anaconda3\\lib\\site-packages\\sklearn\\base.py:439: UserWarning: X does not have valid feature names, but SimpleImputer was fitted with feature names\n",
      "  warnings.warn(\n",
      "C:\\Users\\owner\\anaconda3\\lib\\site-packages\\sklearn\\base.py:439: UserWarning: X does not have valid feature names, but SimpleImputer was fitted with feature names\n",
      "  warnings.warn(\n",
      "C:\\Users\\owner\\anaconda3\\lib\\site-packages\\sklearn\\base.py:439: UserWarning: X does not have valid feature names, but SimpleImputer was fitted with feature names\n",
      "  warnings.warn(\n"
     ]
    }
   ],
   "source": [
    "categorical_transformer = SimpleImputer(strategy='most_frequent')\n",
    "categorical_transformer.fit(X_train[categorical_cols])\n",
    "X_train_cat = categorical_transformer.transform(X_train[categorical_cols].values)\n",
    "X_valid_cat = categorical_transformer.transform(X_valid[categorical_cols].values)\n",
    "X_test_cat = categorical_transformer.transform(X_test[categorical_cols].values)"
   ]
  },
  {
   "cell_type": "code",
   "execution_count": 12,
   "id": "d8f4f24d-7927-452a-9045-395022e97c1a",
   "metadata": {},
   "outputs": [],
   "source": [
    "train_X = np.hstack((X_train_mat, X_train_cat))\n",
    "valid_X = np.hstack((X_valid_mat, X_valid_cat))\n",
    "test_X = np.hstack((X_test_mat, X_test_cat))"
   ]
  },
  {
   "cell_type": "code",
   "execution_count": 13,
   "id": "fb123497-e65c-49e1-af3f-2f3211a790c8",
   "metadata": {},
   "outputs": [
    {
     "data": {
      "text/html": [
       "<div>\n",
       "<style scoped>\n",
       "    .dataframe tbody tr th:only-of-type {\n",
       "        vertical-align: middle;\n",
       "    }\n",
       "\n",
       "    .dataframe tbody tr th {\n",
       "        vertical-align: top;\n",
       "    }\n",
       "\n",
       "    .dataframe thead th {\n",
       "        text-align: right;\n",
       "    }\n",
       "</style>\n",
       "<table border=\"1\" class=\"dataframe\">\n",
       "  <thead>\n",
       "    <tr style=\"text-align: right;\">\n",
       "      <th></th>\n",
       "      <th>ID</th>\n",
       "      <th>bedroom</th>\n",
       "      <th>bathroom</th>\n",
       "      <th>parking_space</th>\n",
       "      <th>loc</th>\n",
       "      <th>title</th>\n",
       "    </tr>\n",
       "  </thead>\n",
       "  <tbody>\n",
       "    <tr>\n",
       "      <th>5341</th>\n",
       "      <td>11717.0</td>\n",
       "      <td>5.03574</td>\n",
       "      <td>3.0</td>\n",
       "      <td>3.0</td>\n",
       "      <td>Kano</td>\n",
       "      <td>Terrace duplex</td>\n",
       "    </tr>\n",
       "    <tr>\n",
       "      <th>8028</th>\n",
       "      <td>1438.0</td>\n",
       "      <td>4.0</td>\n",
       "      <td>2.715874</td>\n",
       "      <td>4.0</td>\n",
       "      <td>Kaduna</td>\n",
       "      <td>Penthouse</td>\n",
       "    </tr>\n",
       "    <tr>\n",
       "      <th>9440</th>\n",
       "      <td>1998.0</td>\n",
       "      <td>9.0</td>\n",
       "      <td>2.0</td>\n",
       "      <td>5.0</td>\n",
       "      <td>Ekiti</td>\n",
       "      <td>Detached duplex</td>\n",
       "    </tr>\n",
       "    <tr>\n",
       "      <th>10399</th>\n",
       "      <td>1984.0</td>\n",
       "      <td>3.0</td>\n",
       "      <td>1.0</td>\n",
       "      <td>1.0</td>\n",
       "      <td>Adamawa</td>\n",
       "      <td>Flat</td>\n",
       "    </tr>\n",
       "    <tr>\n",
       "      <th>6518</th>\n",
       "      <td>8291.0</td>\n",
       "      <td>1.0</td>\n",
       "      <td>6.0</td>\n",
       "      <td>1.0</td>\n",
       "      <td>Delta</td>\n",
       "      <td>Penthouse</td>\n",
       "    </tr>\n",
       "  </tbody>\n",
       "</table>\n",
       "</div>"
      ],
      "text/plain": [
       "            ID  bedroom  bathroom parking_space      loc            title\n",
       "5341   11717.0  5.03574       3.0           3.0     Kano   Terrace duplex\n",
       "8028    1438.0      4.0  2.715874           4.0   Kaduna        Penthouse\n",
       "9440    1998.0      9.0       2.0           5.0    Ekiti  Detached duplex\n",
       "10399   1984.0      3.0       1.0           1.0  Adamawa             Flat\n",
       "6518    8291.0      1.0       6.0           1.0    Delta        Penthouse"
      ]
     },
     "execution_count": 13,
     "metadata": {},
     "output_type": "execute_result"
    }
   ],
   "source": [
    "train_X_df = pd.DataFrame(train_X, columns = numerical_cols + categorical_cols, index = X_train.index)\n",
    "valid_X_df = pd.DataFrame(valid_X, columns = numerical_cols + categorical_cols, index = X_valid.index)\n",
    "test_X_df = pd.DataFrame(test_X, columns = numerical_cols + categorical_cols, index = X_test.index)\n",
    "train_X_df.head()"
   ]
  },
  {
   "cell_type": "code",
   "execution_count": 14,
   "id": "d98806d7-f522-4cb2-a501-28d881841151",
   "metadata": {},
   "outputs": [],
   "source": [
    "# categoricals features\n",
    "for col in categorical_cols:\n",
    "    train_X_df[col] = train_X_df[col].astype(str)\n",
    "    valid_X_df[col] = valid_X_df[col].astype(str)\n",
    "    test_X_df[col] = test_X_df[col].astype(str)"
   ]
  },
  {
   "cell_type": "code",
   "execution_count": 15,
   "id": "66370f7f-3ed3-494a-a97c-910a3eb8dc97",
   "metadata": {},
   "outputs": [],
   "source": [
    "#importing library and building model\n",
    "from catboost import CatBoostRegressor\n",
    "model=CatBoostRegressor(iterations=1000, learning_rate=0.05,  loss_function='RMSE', logging_level='Silent')"
   ]
  },
  {
   "cell_type": "code",
   "execution_count": 16,
   "id": "eee63131-e8ea-44cb-a1c7-8ee9d5b82809",
   "metadata": {},
   "outputs": [
    {
     "data": {
      "application/vnd.jupyter.widget-view+json": {
       "model_id": "e0a90d9dbacd480799f627eb092f8ad8",
       "version_major": 2,
       "version_minor": 0
      },
      "text/plain": [
       "MetricVisualizer(layout=Layout(align_self='stretch', height='500px'))"
      ]
     },
     "metadata": {},
     "output_type": "display_data"
    },
    {
     "data": {
      "text/plain": [
       "<catboost.core.CatBoostRegressor at 0x19e83d6ea60>"
      ]
     },
     "execution_count": 16,
     "metadata": {},
     "output_type": "execute_result"
    }
   ],
   "source": [
    "model.fit(train_X_df,y_train,cat_features=categorical_cols,eval_set=(valid_X_df,y_valid),plot=True)"
   ]
  },
  {
   "cell_type": "code",
   "execution_count": 17,
   "id": "9cba4c76-ce8e-4722-8210-e6b6229cfa2b",
   "metadata": {},
   "outputs": [
    {
     "name": "stdout",
     "output_type": "stream",
     "text": [
      "Mean Absolute Error: 275017.00004736666\n"
     ]
    }
   ],
   "source": [
    "from sklearn.metrics import mean_absolute_error\n",
    "\n",
    "predictions = model.predict(valid_X_df)\n",
    "print(\"Mean Absolute Error: \" + str(mean_absolute_error(predictions, y_valid)))"
   ]
  },
  {
   "cell_type": "code",
   "execution_count": 24,
   "id": "0a22fe14-9cdb-432d-a04a-71ebbc5f9725",
   "metadata": {},
   "outputs": [],
   "source": [
    "# Preprocessing for categorical data\n",
    "numerical_cols = list(X_test.select_dtypes(exclude=['object']).columns)\n",
    "categorical_cols = list(X_test.select_dtypes(include=['object']).columns)"
   ]
  },
  {
   "cell_type": "code",
   "execution_count": 25,
   "id": "55245775-1acb-40df-87e2-2594709d6aaa",
   "metadata": {},
   "outputs": [],
   "source": [
    "# categoricals features\n",
    "for col in categorical_cols:\n",
    "    X_test[col] = X_test[col].astype(str)"
   ]
  },
  {
   "cell_type": "code",
   "execution_count": 18,
   "id": "afee560a-5e9f-4e39-bca6-0b35346ab730",
   "metadata": {},
   "outputs": [],
   "source": [
    "preds_test = model.predict(test_X_df)"
   ]
  },
  {
   "cell_type": "code",
   "execution_count": 28,
   "id": "f893021a-4166-4805-b70e-f970bc26d110",
   "metadata": {},
   "outputs": [
    {
     "data": {
      "text/plain": [
       "(6000,)"
      ]
     },
     "execution_count": 28,
     "metadata": {},
     "output_type": "execute_result"
    }
   ],
   "source": [
    "preds_test.shape"
   ]
  },
  {
   "cell_type": "code",
   "execution_count": 27,
   "id": "00d4085b-9fd5-4d0f-a5a8-8f2c86b83625",
   "metadata": {},
   "outputs": [
    {
     "name": "stdout",
     "output_type": "stream",
     "text": [
      "<class 'pandas.core.frame.DataFrame'>\n",
      "RangeIndex: 6000 entries, 0 to 5999\n",
      "Data columns (total 6 columns):\n",
      " #   Column         Non-Null Count  Dtype \n",
      "---  ------         --------------  ----- \n",
      " 0   ID             6000 non-null   int64 \n",
      " 1   loc            6000 non-null   object\n",
      " 2   title          6000 non-null   object\n",
      " 3   bedroom        6000 non-null   int64 \n",
      " 4   bathroom       6000 non-null   int64 \n",
      " 5   parking_space  6000 non-null   int64 \n",
      "dtypes: int64(4), object(2)\n",
      "memory usage: 281.4+ KB\n"
     ]
    }
   ],
   "source": [
    "X_test.info()"
   ]
  },
  {
   "cell_type": "code",
   "execution_count": null,
   "id": "ae3df6ae-47ef-427c-8572-5002a952a02e",
   "metadata": {},
   "outputs": [],
   "source": [
    "sub"
   ]
  },
  {
   "cell_type": "code",
   "execution_count": 29,
   "id": "36b50b3e-38b3-4181-8ead-0d342edea55f",
   "metadata": {},
   "outputs": [],
   "source": [
    "# Save test predictions to file\n",
    "output = pd.DataFrame({'ID': sub['ID'],\n",
    "                       'price': preds_test})\n",
    "output.to_csv('submission_new.csv', index=False)"
   ]
  }
 ],
 "metadata": {
  "kernelspec": {
   "display_name": "Python 3 (ipykernel)",
   "language": "python",
   "name": "python3"
  },
  "language_info": {
   "codemirror_mode": {
    "name": "ipython",
    "version": 3
   },
   "file_extension": ".py",
   "mimetype": "text/x-python",
   "name": "python",
   "nbconvert_exporter": "python",
   "pygments_lexer": "ipython3",
   "version": "3.9.13"
  }
 },
 "nbformat": 4,
 "nbformat_minor": 5
}
